{
 "cells": [
  {
   "cell_type": "code",
   "execution_count": null,
   "id": "f7116c0a",
   "metadata": {},
   "outputs": [],
   "source": [
    "import tensorflow as tf \n",
    "import numpy as np \n",
    "from tensorflow.keras.preprocessing import image"
   ]
  },
  {
   "cell_type": "code",
   "execution_count": null,
   "id": "8e805974",
   "metadata": {},
   "outputs": [],
   "source": [
    "##Load the saved model \n",
    "model = tf.keras.models.load_model('emotion_cnn_model.h5')"
   ]
  },
  {
   "cell_type": "code",
   "execution_count": null,
   "id": "652d504c",
   "metadata": {},
   "outputs": [],
   "source": [
    "##Define the class labels(must match trainig order)\n",
    "class_labels = ['angry', 'disgusted', 'fearful', 'happy', 'neutral', 'sad', 'surprised']"
   ]
  },
  {
   "cell_type": "code",
   "execution_count": null,
   "id": "d3120ec4",
   "metadata": {},
   "outputs": [],
   "source": [
    "##Preprocess the image for prediction\n",
    "img_path = ''\n",
    "img = image.load_img(img_path,target_size=(128,128))\n",
    "img_array = image.img_to_array(img)/255.0\n",
    "img_array= np.expand_dims(img_array,axis=0)"
   ]
  },
  {
   "cell_type": "code",
   "execution_count": null,
   "id": "1aedbd48",
   "metadata": {},
   "outputs": [],
   "source": [
    "##Predict the image \n",
    "pred = model.predict(img_array)\n",
    "pred_class = np.argmax(pred)\n",
    "print(\"Predicted emotion:\", class_labels[pred_class])"
   ]
  }
 ],
 "metadata": {
  "language_info": {
   "name": "python"
  }
 },
 "nbformat": 4,
 "nbformat_minor": 5
}
